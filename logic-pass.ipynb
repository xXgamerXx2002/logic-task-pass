{
 "cells": [
  {
   "cell_type": "markdown",
   "id": "72ffa489",
   "metadata": {},
   "source": [
    "#### Q1/Write a method that will remove any given character from a String?"
   ]
  },
  {
   "cell_type": "code",
   "execution_count": 9,
   "id": "02580def",
   "metadata": {},
   "outputs": [
    {
     "name": "stdout",
     "output_type": "stream",
     "text": [
      "aido\n"
     ]
    }
   ],
   "source": [
    "def remove_character(char,st):\n",
    "    \n",
    "    x=st.replace(char,'')\n",
    "    return x    \n",
    "        \n",
    "        \n",
    "        \n",
    "        \n",
    "remove_character('jo','aidojo')\n",
    "print(remove_character('jo','aidojo'))"
   ]
  },
  {
   "cell_type": "markdown",
   "id": "e6cb87bb",
   "metadata": {},
   "source": [
    "#### Q2/Write a program to find all prime numbers up to a given range of numbers?\n"
   ]
  },
  {
   "cell_type": "code",
   "execution_count": 19,
   "id": "51293b8f",
   "metadata": {},
   "outputs": [
    {
     "name": "stdout",
     "output_type": "stream",
     "text": [
      "1\n",
      "3\n",
      "5\n",
      "7\n",
      "9\n",
      "11\n"
     ]
    }
   ],
   "source": [
    "def prime_numbers(lst):\n",
    "    for i in lst:\n",
    "        if i % 2:\n",
    "            print (i)\n",
    "prime_numbers([1,2,3,4,5,6,7,8,9,10,11])"
   ]
  },
  {
   "cell_type": "markdown",
   "id": "468e4669",
   "metadata": {},
   "source": [
    "#### Q3/write a function that count how many the given character repeatedin a given string?\n"
   ]
  },
  {
   "cell_type": "code",
   "execution_count": 2,
   "id": "2d59eaf9",
   "metadata": {},
   "outputs": [
    {
     "name": "stdout",
     "output_type": "stream",
     "text": [
      "{'A': 6, 'C': 4, 'G': 3, 'T': 5}\n"
     ]
    }
   ],
   "source": [
    "def rr(seq): \n",
    "    leteer={} \n",
    "    for i in seq: \n",
    "        if i in leteer: \n",
    "            leteer[i]+=1 \n",
    "           \n",
    "        else:                               \n",
    "            leteer[i]=1     \n",
    "           \n",
    "    return leteer \n",
    "print(rr('ACGTAATCGGTTAACCTA'))"
   ]
  }
 ],
 "metadata": {
  "kernelspec": {
   "display_name": "Python 3 (ipykernel)",
   "language": "python",
   "name": "python3"
  },
  "language_info": {
   "codemirror_mode": {
    "name": "ipython",
    "version": 3
   },
   "file_extension": ".py",
   "mimetype": "text/x-python",
   "name": "python",
   "nbconvert_exporter": "python",
   "pygments_lexer": "ipython3",
   "version": "3.9.12"
  }
 },
 "nbformat": 4,
 "nbformat_minor": 5
}
